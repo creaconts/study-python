{
 "cells": [
  {
   "cell_type": "markdown",
   "metadata": {},
   "source": [
    "# Hello Python\n",
    "\n",
    "- 수학에 나온 기호처럼 쓰기\n",
    "\n",
    "$y=3x$\n",
    "\n",
    "- 파이썬 코드처럼 출력 하기\n",
    "```python\n",
    "a = 10\n",
    "print(a)\n",
    "```"
   ]
  },
  {
   "cell_type": "code",
   "execution_count": 1,
   "metadata": {},
   "outputs": [
    {
     "name": "stdout",
     "output_type": "stream",
     "text": [
      "Hello Python\n"
     ]
    }
   ],
   "source": [
    "print('Hello Python')"
   ]
  },
  {
   "cell_type": "markdown",
   "metadata": {},
   "source": [
    "## 기본 타입 및 변수의 이해"
   ]
  },
  {
   "cell_type": "code",
   "execution_count": 2,
   "metadata": {},
   "outputs": [],
   "source": [
    "a = 10 # int\n",
    "b = 11.4 # float"
   ]
  },
  {
   "cell_type": "code",
   "execution_count": 3,
   "metadata": {},
   "outputs": [
    {
     "name": "stdout",
     "output_type": "stream",
     "text": [
      "10 11.4\n",
      "10 10 200 11.4\n"
     ]
    }
   ],
   "source": [
    "print(a, b)\n",
    "print(a, 10, 200, b)"
   ]
  },
  {
   "cell_type": "code",
   "execution_count": 4,
   "metadata": {},
   "outputs": [
    {
     "name": "stdout",
     "output_type": "stream",
     "text": [
      "10*11.4*10*100@"
     ]
    }
   ],
   "source": [
    "# Shift + Tab : 함수의 정의를 볼 수 있다.\n",
    "print(a, b, 10, 100, sep='*', end='@')"
   ]
  },
  {
   "cell_type": "code",
   "execution_count": 5,
   "metadata": {},
   "outputs": [
    {
     "name": "stdout",
     "output_type": "stream",
     "text": [
      "10\n",
      "10 11.4\n"
     ]
    },
    {
     "data": {
      "text/plain": [
       "10"
      ]
     },
     "execution_count": 5,
     "metadata": {},
     "output_type": "execute_result"
    }
   ],
   "source": [
    "print(a)\n",
    "print(a, b)\n",
    "a # 간단하게 변수값 확인"
   ]
  },
  {
   "cell_type": "code",
   "execution_count": 6,
   "metadata": {},
   "outputs": [
    {
     "ename": "SyntaxError",
     "evalue": "invalid syntax (<ipython-input-6-f0865ef31148>, line 2)",
     "output_type": "error",
     "traceback": [
      "\u001b[0;36m  File \u001b[0;32m\"<ipython-input-6-f0865ef31148>\"\u001b[0;36m, line \u001b[0;32m2\u001b[0m\n\u001b[0;31m    3abc = 100\u001b[0m\n\u001b[0m       ^\u001b[0m\n\u001b[0;31mSyntaxError\u001b[0m\u001b[0;31m:\u001b[0m invalid syntax\n"
     ]
    }
   ],
   "source": [
    "# 문법 오류 (변수는 숫자가 먼저 오면 안된다.)\n",
    "3abc = 100"
   ]
  },
  {
   "cell_type": "markdown",
   "metadata": {},
   "source": [
    "## 기본 데이터 타입\n",
    "- 정수(int)\n",
    "- 실수(float)\n",
    "- 문자열(str)\n",
    "- 불리언(boolean)"
   ]
  },
  {
   "cell_type": "code",
   "execution_count": 7,
   "metadata": {},
   "outputs": [
    {
     "name": "stdout",
     "output_type": "stream",
     "text": [
      "<class 'float'>\n"
     ]
    }
   ],
   "source": [
    "a = 10\n",
    "b = 11.45\n",
    "\n",
    "# 변수의 타입을 알고 싶으면...\n",
    "print(type(b))"
   ]
  },
  {
   "cell_type": "code",
   "execution_count": 8,
   "metadata": {},
   "outputs": [
    {
     "name": "stdout",
     "output_type": "stream",
     "text": [
      "None\n"
     ]
    }
   ],
   "source": [
    "# 변수를 생성하고 싶은데 초기화 값을 모를 때... None\n",
    "c = None\n",
    "print(c)"
   ]
  },
  {
   "cell_type": "code",
   "execution_count": 9,
   "metadata": {},
   "outputs": [
    {
     "name": "stdout",
     "output_type": "stream",
     "text": [
      "True\n",
      "False\n",
      "True\n",
      "False\n",
      "False\n",
      "True\n"
     ]
    }
   ],
   "source": [
    "# 비교 연산자\n",
    "a = 5\n",
    "b = 4\n",
    "print(a > b)\n",
    "print(a < b)\n",
    "print(a >= b)\n",
    "print(a <= b)\n",
    "print(a == b)\n",
    "print(a != b)"
   ]
  },
  {
   "cell_type": "code",
   "execution_count": 10,
   "metadata": {},
   "outputs": [
    {
     "name": "stdout",
     "output_type": "stream",
     "text": [
      "9\n"
     ]
    }
   ],
   "source": [
    "# 변수의 값은 대입이 발생하기 전에는 바뀌지 않는다!\n",
    "a = 9\n",
    "a - 3\n",
    "print(a)"
   ]
  },
  {
   "cell_type": "code",
   "execution_count": 11,
   "metadata": {},
   "outputs": [
    {
     "name": "stdout",
     "output_type": "stream",
     "text": [
      "6\n"
     ]
    }
   ],
   "source": [
    "# 변수의 값 바꾸기\n",
    "a = 9\n",
    "t = a - 3\n",
    "a = t\n",
    "print(a)"
   ]
  },
  {
   "cell_type": "code",
   "execution_count": 12,
   "metadata": {},
   "outputs": [
    {
     "name": "stdout",
     "output_type": "stream",
     "text": [
      "6\n"
     ]
    }
   ],
   "source": [
    "# 변수의 값 바꾸기 .. 보통 이렇게 합니다.\n",
    "a = 9\n",
    "a -= 3\n",
    "print(a)"
   ]
  },
  {
   "cell_type": "markdown",
   "metadata": {},
   "source": [
    "## string(문자열)"
   ]
  },
  {
   "cell_type": "code",
   "execution_count": 13,
   "metadata": {},
   "outputs": [
    {
     "name": "stdout",
     "output_type": "stream",
     "text": [
      "Hello\" world\n",
      "Hello' world\n"
     ]
    }
   ],
   "source": [
    "a = 'Hello\" world' # 문자열 안에서 큰 따옴표(\"\")를 사용할 때, 작은 따옴표로 묶는다.\n",
    "b = \"Hello' world\" # 문자열 안에서 작은 따옴표('')를 사용할 때, 큰 따옴표로 묶는다.\n",
    "print(a)\n",
    "print(b)"
   ]
  },
  {
   "cell_type": "code",
   "execution_count": 14,
   "metadata": {},
   "outputs": [
    {
     "name": "stdout",
     "output_type": "stream",
     "text": [
      "Hello \n",
      "world\n",
      "Hello \n",
      "world\n"
     ]
    }
   ],
   "source": [
    "# 여러 줄로 들여쓰기 문자열을 쓸 때...\n",
    "c = '''Hello \n",
    "world'''\n",
    "d = \"\"\"Hello \n",
    "world\"\"\"\n",
    "print(c)\n",
    "print(d)"
   ]
  },
  {
   "cell_type": "markdown",
   "metadata": {},
   "source": [
    "### escape string(이스케이프 문자)\n",
    "- 문자열내의 일부 문자의 의미를 달리하여 특정 효과를 주는 것\n",
    "- \\n : new line\n",
    "- \\t : tab"
   ]
  },
  {
   "cell_type": "code",
   "execution_count": 15,
   "metadata": {},
   "outputs": [
    {
     "name": "stdout",
     "output_type": "stream",
     "text": [
      "Hello world\n",
      "\n",
      "\n",
      "haha \t ha\n"
     ]
    }
   ],
   "source": [
    "print('Hello world\\n\\n') # 아래 두 칸 띄우기\n",
    "print('haha \\t ha') # Tab 기능"
   ]
  },
  {
   "cell_type": "markdown",
   "metadata": {},
   "source": [
    "### indexting & slicing string(문자열 인덱스 및 추출)"
   ]
  },
  {
   "cell_type": "code",
   "execution_count": 16,
   "metadata": {},
   "outputs": [
    {
     "name": "stdout",
     "output_type": "stream",
     "text": [
      "d\n"
     ]
    }
   ],
   "source": [
    "a = 'Hello world' # 길이 : 11\n",
    "print(a[10])"
   ]
  },
  {
   "cell_type": "markdown",
   "metadata": {},
   "source": [
    "### -1 인덱스\n",
    "- 파이썬은 음수 인덱스를 지원\n",
    "- -1 : 가장 마지막 인덱스\n",
    "- -2 : 마지막에서 두번째 인덱스"
   ]
  },
  {
   "cell_type": "code",
   "execution_count": 17,
   "metadata": {},
   "outputs": [
    {
     "name": "stdout",
     "output_type": "stream",
     "text": [
      "d\n",
      "l\n",
      "H\n"
     ]
    }
   ],
   "source": [
    "a = 'Hello world'\n",
    "print(a[-1])\n",
    "print(a[-2])\n",
    "print(a[-11])"
   ]
  },
  {
   "cell_type": "code",
   "execution_count": 18,
   "metadata": {},
   "outputs": [
    {
     "name": "stdout",
     "output_type": "stream",
     "text": [
      "Hell\n",
      "Hello\n",
      "lo world\n",
      "Hello world\n"
     ]
    }
   ],
   "source": [
    "a = 'Hello world'\n",
    "print(a[0:4]) # 0~4 사이의 문자를 출력하라(마지막 인덱스는 포함하지 않음)\n",
    "print(a[:5]) # 0(처음) 생략 가능\n",
    "print(a[3:]) # 끝까지~\n",
    "print(a[:]) # 전부"
   ]
  },
  {
   "cell_type": "markdown",
   "metadata": {},
   "source": [
    "### upper\n",
    "- 대문자로 치환"
   ]
  },
  {
   "cell_type": "code",
   "execution_count": 19,
   "metadata": {},
   "outputs": [
    {
     "data": {
      "text/plain": [
       "'HELLO WORLD'"
      ]
     },
     "execution_count": 19,
     "metadata": {},
     "output_type": "execute_result"
    }
   ],
   "source": [
    "a = \"hello world\"\n",
    "a.upper() # a. 누르고 Tab"
   ]
  },
  {
   "cell_type": "markdown",
   "metadata": {},
   "source": [
    "### replace\n",
    "- 문자열 내의 특정 문자 치환"
   ]
  },
  {
   "cell_type": "code",
   "execution_count": 20,
   "metadata": {},
   "outputs": [
    {
     "data": {
      "text/plain": [
       "'heZZo worZd'"
      ]
     },
     "execution_count": 20,
     "metadata": {},
     "output_type": "execute_result"
    }
   ],
   "source": [
    "a = \"hello world\"\n",
    "a.replace('l','Z') # 모든 'l'을 'Z'로 바꾸기"
   ]
  },
  {
   "cell_type": "markdown",
   "metadata": {},
   "source": [
    "### format\n",
    "- 문자열내의 특정한 값을 변수로부터 초기화하여 동적으로 문자열을 생성"
   ]
  },
  {
   "cell_type": "code",
   "execution_count": 21,
   "metadata": {},
   "outputs": [
    {
     "name": "stdout",
     "output_type": "stream",
     "text": [
      "오늘 기온25.5도 이고, 비올 확률은 80.0% 입니다.\n"
     ]
    }
   ],
   "source": [
    "temperature = 25.5\n",
    "prob = 80.0\n",
    "\n",
    "a = '오늘 기온{}도 이고, 비올 확률은 {}% 입니다.'.format(temperature, prob)\n",
    "print(a)"
   ]
  },
  {
   "cell_type": "markdown",
   "metadata": {},
   "source": [
    "### split\n",
    "- 문자열을 특정한 문자 구분하여(delimiter) 문자열의 리스트로 치환"
   ]
  },
  {
   "cell_type": "code",
   "execution_count": 22,
   "metadata": {},
   "outputs": [
    {
     "data": {
      "text/plain": [
       "['hello ', 'orld ', 'hat a nice ', 'eather']"
      ]
     },
     "execution_count": 22,
     "metadata": {},
     "output_type": "execute_result"
    }
   ],
   "source": [
    "a = 'hello world what a nice weather'\n",
    "a.split('w')"
   ]
  },
  {
   "cell_type": "markdown",
   "metadata": {},
   "source": [
    "## list & tuple\n",
    "- 복수개의 값을 담을 수 있는 데이터 구조\n",
    "- 실생활에서 사용하는 리스트(학생 리스트, 성적 리스트 등)과 동일한 의미로 이해\n",
    "- list - mutable(생성된 후에 변경 가능)\n",
    "- tuple - immutable(생성된 후에 변경 불가능) *문자열도 변경 불가능"
   ]
  },
  {
   "cell_type": "markdown",
   "metadata": {},
   "source": [
    "### list 초기화\n",
    "- []안에 값을 담아서 생성\n",
    "- list() 함수로 생성\n",
    "- str.split() 함수로 생성"
   ]
  },
  {
   "cell_type": "code",
   "execution_count": 23,
   "metadata": {},
   "outputs": [
    {
     "name": "stdout",
     "output_type": "stream",
     "text": [
      "[]\n"
     ]
    }
   ],
   "source": [
    "a = []\n",
    "print(a)"
   ]
  },
  {
   "cell_type": "code",
   "execution_count": 24,
   "metadata": {},
   "outputs": [
    {
     "name": "stdout",
     "output_type": "stream",
     "text": [
      "[1, 2, 3, 5, 10]\n",
      "['korea', 'japan', 1, 33, [55, 66]]\n"
     ]
    }
   ],
   "source": [
    "a = [1,2,3,5,10]\n",
    "print(a)\n",
    "\n",
    "# 여러개의 타입을 동시에 담을 수 있고, list도 담을 수 있다.\n",
    "b = ['korea','japan',1,33,[55,66]]\n",
    "print(b)"
   ]
  },
  {
   "cell_type": "markdown",
   "metadata": {},
   "source": [
    "### list() 함수\n",
    "- 다른 데이터 타입을 리스트로 변환할 때도 사용"
   ]
  },
  {
   "cell_type": "code",
   "execution_count": 25,
   "metadata": {},
   "outputs": [
    {
     "name": "stdout",
     "output_type": "stream",
     "text": [
      "['h', 'e', 'l', 'l', 'o', ' ', 'w', 'o', 'r', 'l', 'd']\n",
      "[1, 2, 3]\n"
     ]
    }
   ],
   "source": [
    "a = 'hello world'\n",
    "b = list(a)\n",
    "print(b)\n",
    "\n",
    "# tuple -> list\n",
    "c = (1,2,3) # tuple\n",
    "d = list(c)\n",
    "print(d)"
   ]
  },
  {
   "cell_type": "markdown",
   "metadata": {},
   "source": [
    "### string split 함수"
   ]
  },
  {
   "cell_type": "code",
   "execution_count": 26,
   "metadata": {},
   "outputs": [
    {
     "name": "stdout",
     "output_type": "stream",
     "text": [
      "['hello', 'world', 'nice', 'weather']\n"
     ]
    }
   ],
   "source": [
    "a = 'hello world nice weather'\n",
    "b = a.split() # 괄호안이 비어 있으면 띄어쓰기로 나눔\n",
    "print(b)"
   ]
  },
  {
   "cell_type": "markdown",
   "metadata": {},
   "source": [
    "### list indexing\n",
    "- 문자열의 인덱싱과 동일하게 동작\n",
    "- []연산자를 이용하여 항목 얻어오기\n",
    "- [i] : i번째 원소를 반환\n",
    "- i가 음수인 경우에도 가능"
   ]
  },
  {
   "cell_type": "code",
   "execution_count": 27,
   "metadata": {},
   "outputs": [
    {
     "name": "stdout",
     "output_type": "stream",
     "text": [
      "3\n",
      "6\n",
      "6\n"
     ]
    }
   ],
   "source": [
    "a = [1,2,3,4,5,6]\n",
    "print(a[2])\n",
    "print(a[5])\n",
    "print(a[-1]) # 음수"
   ]
  },
  {
   "cell_type": "markdown",
   "metadata": {},
   "source": [
    "### list 개별 아이템에 접근\n",
    "- 인덱스에 접근하여 값을 업데이트 가능"
   ]
  },
  {
   "cell_type": "code",
   "execution_count": 28,
   "metadata": {},
   "outputs": [
    {
     "name": "stdout",
     "output_type": "stream",
     "text": [
      "h\n",
      "hello world\n",
      "jello world\n",
      "jello world\n",
      "jello world\n"
     ]
    }
   ],
   "source": [
    "# 불변(immutable) : 문자열은 한 번 생성되면 절대 바뀌지 않는다(tuple 도 같음)\n",
    "a = 'hello world'\n",
    "print(a[0])\n",
    "\n",
    "# h를 j로 바꾸고 싶으면...\n",
    "# a[0] = 'j' # error\n",
    "\n",
    "b = 'jello world' # 방법1 : 새로 생성\n",
    "c = 'j' + a[1:] # 방법2 : 추가\n",
    "d = a.replace('h', 'j') # 방법3 : replace(치환)\n",
    "\n",
    "print(a)\n",
    "print(b)\n",
    "print(c)\n",
    "print(d)"
   ]
  },
  {
   "cell_type": "code",
   "execution_count": 29,
   "metadata": {},
   "outputs": [
    {
     "name": "stdout",
     "output_type": "stream",
     "text": [
      "[100, 2, 3, 4, 99]\n"
     ]
    }
   ],
   "source": [
    "# list는 mutable(생성된 후에 변경 가능)\n",
    "a = [1,2,3,4,5]\n",
    "a[0] = 100\n",
    "a[-1] = 99\n",
    "print(a)"
   ]
  },
  {
   "cell_type": "markdown",
   "metadata": {},
   "source": [
    "### list slicing"
   ]
  },
  {
   "cell_type": "code",
   "execution_count": 30,
   "metadata": {},
   "outputs": [
    {
     "name": "stdout",
     "output_type": "stream",
     "text": [
      "[5, 6, 7]\n",
      "[1, 2, 3, 4, 5, 6, 7]\n",
      "[4, 5, 6, 7, 8]\n",
      "[1, 2, 3, 4, 5, 6, 7, 8]\n"
     ]
    }
   ],
   "source": [
    "a = [1,2,3,4,5,6,7,8]\n",
    "print(a[4:7])\n",
    "print(a[:7])\n",
    "print(a[3:])\n",
    "print(a[:])"
   ]
  },
  {
   "cell_type": "code",
   "execution_count": 31,
   "metadata": {},
   "outputs": [
    {
     "data": {
      "text/plain": [
       "[2, 5]"
      ]
     },
     "execution_count": 31,
     "metadata": {},
     "output_type": "execute_result"
    }
   ],
   "source": [
    "# slicing = start:end:increment(건너뛰기)\n",
    "a = [1,2,3,4,5,6,7,8]\n",
    "a[1:7:3]"
   ]
  },
  {
   "cell_type": "markdown",
   "metadata": {},
   "source": [
    "## list 멤버 함수\n",
    "- 생성된 리스트 객체에 동작하는 함수\n",
    "- 향후, 클래스와 멤버 함수 개념을 이해할 예정"
   ]
  },
  {
   "cell_type": "markdown",
   "metadata": {},
   "source": [
    "### append()\n",
    "- 리스트의 '마지막'에 항목을 추가함"
   ]
  },
  {
   "cell_type": "code",
   "execution_count": 32,
   "metadata": {},
   "outputs": [
    {
     "name": "stdout",
     "output_type": "stream",
     "text": [
      "[1, 2, 3, 4, 5, 10]\n"
     ]
    }
   ],
   "source": [
    "a = [1,2,3,4,5]\n",
    "a.append(10)\n",
    "print(a)"
   ]
  },
  {
   "cell_type": "markdown",
   "metadata": {},
   "source": [
    "### extend()\n",
    "- 리스트를 연장\n",
    "- +=로도 가능함"
   ]
  },
  {
   "cell_type": "code",
   "execution_count": 33,
   "metadata": {},
   "outputs": [
    {
     "name": "stdout",
     "output_type": "stream",
     "text": [
      "[1, 2, 3, 4, 5, 6, 7, 8, 9, 10]\n"
     ]
    }
   ],
   "source": [
    "a = [1,2,3,4,5]\n",
    "b = [6,7,8,9,10]\n",
    "\n",
    "# [1,2,3,4,5,6,7,8,9,10]\n",
    "a.extend(b)\n",
    "print(a)"
   ]
  },
  {
   "cell_type": "markdown",
   "metadata": {},
   "source": [
    "### insert()로 항목 추가\n",
    "- 리스트의 '원하는 위치에' 추가 가능\n",
    "- 앞에 인덱스를, 뒤에 아이템을 명시"
   ]
  },
  {
   "cell_type": "code",
   "execution_count": 34,
   "metadata": {},
   "outputs": [
    {
     "name": "stdout",
     "output_type": "stream",
     "text": [
      "[1, 222, 3, 4, 5, 6]\n"
     ]
    }
   ],
   "source": [
    "a = [1,3,4,5,6]\n",
    "a.insert(1,222)\n",
    "print(a)"
   ]
  },
  {
   "cell_type": "markdown",
   "metadata": {},
   "source": [
    "### remove()\n",
    "- 값으로 항목 삭제"
   ]
  },
  {
   "cell_type": "code",
   "execution_count": 35,
   "metadata": {},
   "outputs": [
    {
     "name": "stdout",
     "output_type": "stream",
     "text": [
      "[1, 2, 30, 4, 5]\n"
     ]
    }
   ],
   "source": [
    "a = [1,2,30,30,4,5]\n",
    "a.remove(30) # 같은 숫자가 여러개 있을 경우 앞에만 지움\n",
    "print(a)"
   ]
  },
  {
   "cell_type": "markdown",
   "metadata": {},
   "source": [
    "### pop()\n",
    "- 인덱스로 지움\n",
    "- 지우고자 하는 아이템을 반환 후, 삭제\n",
    "- 값을 넣지 않으면 맨 마지막을 지움"
   ]
  },
  {
   "cell_type": "code",
   "execution_count": 36,
   "metadata": {},
   "outputs": [
    {
     "name": "stdout",
     "output_type": "stream",
     "text": [
      "[1, 3, 4, 5]\n",
      "2\n"
     ]
    }
   ],
   "source": [
    "a = [1,2,3,4,5]\n",
    "d = a.pop(1)\n",
    "print(a)\n",
    "print(d)"
   ]
  },
  {
   "cell_type": "markdown",
   "metadata": {},
   "source": [
    "### index()\n",
    "- 찾고자 하는 '값'의 인덱스 반환"
   ]
  },
  {
   "cell_type": "code",
   "execution_count": 37,
   "metadata": {},
   "outputs": [
    {
     "name": "stdout",
     "output_type": "stream",
     "text": [
      "[2, 6, 7, 9, 10]\n"
     ]
    }
   ],
   "source": [
    "a = [2,6,7,9,10]\n",
    "a.index(10)\n",
    "print(a)"
   ]
  },
  {
   "cell_type": "markdown",
   "metadata": {},
   "source": [
    "### in 키워드\n",
    "- 리스트 내에 해당 값이 존재하는지 확인\n",
    "- value in [list]\n",
    "- True, False 중 한가지로 반환"
   ]
  },
  {
   "cell_type": "code",
   "execution_count": 38,
   "metadata": {},
   "outputs": [
    {
     "name": "stdout",
     "output_type": "stream",
     "text": [
      "False\n"
     ]
    }
   ],
   "source": [
    "a = [1,2,3,4,5,10]\n",
    "b = 7\n",
    "\n",
    "c = b in a\n",
    "print(c)"
   ]
  },
  {
   "cell_type": "markdown",
   "metadata": {},
   "source": [
    "### list 정렬\n",
    "- sort() : 리스트 자체를 내부적으로 정렬\n",
    "- sorted() : 리스트의 정렬된 복사본을 반환"
   ]
  },
  {
   "cell_type": "code",
   "execution_count": 39,
   "metadata": {},
   "outputs": [
    {
     "name": "stdout",
     "output_type": "stream",
     "text": [
      "[1, 2, 7, 8, 9, 9, 10, 19, 20, 21]\n",
      "[21, 20, 19, 10, 9, 9, 8, 7, 2, 1]\n",
      "[1, 2, 7, 8, 9, 9, 10, 19, 20, 21]\n"
     ]
    }
   ],
   "source": [
    "a = [9,10,9,19,1,2,20,21,7,8]\n",
    "a.sort()\n",
    "print(a)\n",
    "\n",
    "# 내림차순 정렬\n",
    "a.sort(reverse=True)\n",
    "print(a)\n",
    "\n",
    "# sorted() 내장함수 이용\n",
    "b = sorted(a)\n",
    "print(b)"
   ]
  },
  {
   "cell_type": "markdown",
   "metadata": {},
   "source": [
    "## Tuple\n",
    "- 리스트와 같이 복수개의 값을 갖는 컬렉션 타입\n",
    "- 생성된 후 변경이 불가능"
   ]
  },
  {
   "cell_type": "code",
   "execution_count": 40,
   "metadata": {},
   "outputs": [
    {
     "name": "stdout",
     "output_type": "stream",
     "text": [
      "<class 'list'>\n",
      "<class 'tuple'>\n",
      "[100, 2, 3, 4]\n"
     ]
    },
    {
     "ename": "TypeError",
     "evalue": "'tuple' object does not support item assignment",
     "output_type": "error",
     "traceback": [
      "\u001b[0;31m---------------------------------------------------------------------------\u001b[0m",
      "\u001b[0;31mTypeError\u001b[0m                                 Traceback (most recent call last)",
      "\u001b[0;32m<ipython-input-40-c4cb8ba2dc1e>\u001b[0m in \u001b[0;36m<module>\u001b[0;34m\u001b[0m\n\u001b[1;32m      7\u001b[0m \u001b[0mprint\u001b[0m\u001b[0;34m(\u001b[0m\u001b[0ma\u001b[0m\u001b[0;34m)\u001b[0m\u001b[0;34m\u001b[0m\u001b[0;34m\u001b[0m\u001b[0m\n\u001b[1;32m      8\u001b[0m \u001b[0;34m\u001b[0m\u001b[0m\n\u001b[0;32m----> 9\u001b[0;31m \u001b[0mb\u001b[0m\u001b[0;34m[\u001b[0m\u001b[0;36m0\u001b[0m\u001b[0;34m]\u001b[0m \u001b[0;34m=\u001b[0m \u001b[0;36m100\u001b[0m \u001b[0;31m# 변경 불가! item assignment\u001b[0m\u001b[0;34m\u001b[0m\u001b[0;34m\u001b[0m\u001b[0m\n\u001b[0m\u001b[1;32m     10\u001b[0m \u001b[0mprint\u001b[0m\u001b[0;34m(\u001b[0m\u001b[0mb\u001b[0m\u001b[0;34m)\u001b[0m\u001b[0;34m\u001b[0m\u001b[0;34m\u001b[0m\u001b[0m\n",
      "\u001b[0;31mTypeError\u001b[0m: 'tuple' object does not support item assignment"
     ]
    }
   ],
   "source": [
    "a = [1,2,3,4] # list\n",
    "b = (1,2,3,4)\n",
    "print(type(a))\n",
    "print(type(b))\n",
    "\n",
    "a[0] = 100\n",
    "print(a)\n",
    "\n",
    "b[0] = 100 # 변경 불가! item assignment\n",
    "print(b)"
   ]
  },
  {
   "cell_type": "markdown",
   "metadata": {},
   "source": [
    "### Tuple unpacking\n",
    "- 변수를 여러개로 선언하는 동시에 차례대로 변수 대입 가능\n",
    "- 멀티플 리턴이 가능"
   ]
  },
  {
   "cell_type": "code",
   "execution_count": 41,
   "metadata": {},
   "outputs": [
    {
     "name": "stdout",
     "output_type": "stream",
     "text": [
      "100 200 300 400\n"
     ]
    }
   ],
   "source": [
    "a, b, c, d = 100, 200, 300, 400\n",
    "print(a,b,c,d)"
   ]
  },
  {
   "cell_type": "markdown",
   "metadata": {},
   "source": [
    "- 연습문제 : a와 b의 값을 교환하시오. (Tuple 의 전형적인 문제)"
   ]
  },
  {
   "cell_type": "code",
   "execution_count": 42,
   "metadata": {},
   "outputs": [
    {
     "name": "stdout",
     "output_type": "stream",
     "text": [
      "5 4\n",
      "4 5\n"
     ]
    }
   ],
   "source": [
    "a = 5\n",
    "b = 4\n",
    "print(a, b)\n",
    "\n",
    "# # temp 이용\n",
    "# temp = a\n",
    "# a = b\n",
    "# b = temp\n",
    "# print(a, b)\n",
    "\n",
    "# Tuple 이용\n",
    "a, b = b, a\n",
    "print(a, b)"
   ]
  },
  {
   "cell_type": "markdown",
   "metadata": {},
   "source": [
    "## dictionary\n",
    "- 키와 값을 갖는 데이터 구조\n",
    "- 키는 내부적으로 hash 값으로 저장\n",
    "- 순서를 따지지 않음. 즉, index가 없음\n",
    "- 많이 사용됨"
   ]
  },
  {
   "cell_type": "code",
   "execution_count": 43,
   "metadata": {},
   "outputs": [
    {
     "name": "stdout",
     "output_type": "stream",
     "text": [
      "Washington D.C\n"
     ]
    }
   ],
   "source": [
    "a = {'Korea':'Seoul',\n",
    "    'Canada':'Ottawa',\n",
    "    'USA':'Washington D.C'}\n",
    "print(a['USA'])"
   ]
  },
  {
   "cell_type": "code",
   "execution_count": 44,
   "metadata": {},
   "outputs": [
    {
     "name": "stdout",
     "output_type": "stream",
     "text": [
      "{'Korea': 'Seoul', 'Canada': 'Ottawa', 'USA': 'Washington D.C', 'Japan': 'Tokyo'}\n"
     ]
    }
   ],
   "source": [
    "# 항목 추가 및 변경\n",
    "a = {'Korea':'Seoul',\n",
    "    'Canada':'Ottawa',\n",
    "    'USA':'Washington D.C'}\n",
    "\n",
    "a['Japan'] = 'Tokyo'\n",
    "print(a)"
   ]
  },
  {
   "cell_type": "code",
   "execution_count": 45,
   "metadata": {},
   "outputs": [
    {
     "name": "stdout",
     "output_type": "stream",
     "text": [
      "{'Korea': 'Seoul', 'Canada': 'Ottawa', 'USA': 'Washington D.C', 'Japan': 'Nagoya'}\n"
     ]
    }
   ],
   "source": [
    "# dict 는 value가 중복이 안 되고 엎어쓰기 됨\n",
    "a = {'Korea':'Seoul',\n",
    "    'Canada':'Ottawa',\n",
    "    'USA':'Washington D.C'}\n",
    "\n",
    "a['Japan'] = 'Tokyo'\n",
    "a['Japan'] = 'Nagoya'\n",
    "print(a)"
   ]
  },
  {
   "cell_type": "markdown",
   "metadata": {},
   "source": [
    "### update()\n",
    "- 두 dictionary 를 병합\n",
    "- 겹치는 키가 있다면 parameter로 전달되는 키 값이 overwrite 된다."
   ]
  },
  {
   "cell_type": "code",
   "execution_count": 46,
   "metadata": {},
   "outputs": [
    {
     "name": "stdout",
     "output_type": "stream",
     "text": [
      "{'a': 2, 'b': 2, 'c': 3, 'd': 4, 'e': 5}\n"
     ]
    }
   ],
   "source": [
    "a = {'a':1,'b':2,'c':3}\n",
    "b = {'a':2,'d':4,'e':5}\n",
    "\n",
    "a.update(b)\n",
    "print(a)"
   ]
  },
  {
   "cell_type": "markdown",
   "metadata": {},
   "source": [
    "### key 삭제\n",
    "- pop 함수 사용\n",
    "- del 키워드 사용 *범용적으로 삭제됨"
   ]
  },
  {
   "cell_type": "code",
   "execution_count": 47,
   "metadata": {},
   "outputs": [
    {
     "name": "stdout",
     "output_type": "stream",
     "text": [
      "{'a': 1, 'b': 2, 'c': 3}\n",
      "{'a': 1, 'c': 3}\n"
     ]
    }
   ],
   "source": [
    "# pop 함수 사용\n",
    "a = {'a':1,'b':2,'c':3}\n",
    "print(a)\n",
    "\n",
    "a.pop('b')\n",
    "print(a)"
   ]
  },
  {
   "cell_type": "code",
   "execution_count": 48,
   "metadata": {},
   "outputs": [
    {
     "name": "stdout",
     "output_type": "stream",
     "text": [
      "{'a': 1, 'b': 2, 'c': 3}\n",
      "{'b': 2, 'c': 3}\n"
     ]
    }
   ],
   "source": [
    "# del 키워드 사용\n",
    "a = {'a':1,'b':2,'c':3}\n",
    "print(a)\n",
    "\n",
    "del a['a']\n",
    "print(a)"
   ]
  },
  {
   "cell_type": "markdown",
   "metadata": {},
   "source": [
    "### clear()\n",
    "- dictionary 의 모든 값을 초기화"
   ]
  },
  {
   "cell_type": "code",
   "execution_count": 49,
   "metadata": {},
   "outputs": [
    {
     "name": "stdout",
     "output_type": "stream",
     "text": [
      "{'a': 1, 'b': 2, 'c': 3}\n",
      "{}\n"
     ]
    }
   ],
   "source": [
    "a = {'a':1,'b':2,'c':3}\n",
    "print(a)\n",
    "a.clear()\n",
    "print(a)"
   ]
  },
  {
   "cell_type": "markdown",
   "metadata": {},
   "source": [
    "### in\n",
    "- key값 존재 확인\n",
    "- O(1)연산 - dictionary 의 크기와 관계없이 항상 연산의 속도가 일정하다는 의미 -> 리스트는 많을 경우 성능 저하가 초래됨"
   ]
  },
  {
   "cell_type": "code",
   "execution_count": 50,
   "metadata": {},
   "outputs": [
    {
     "name": "stdout",
     "output_type": "stream",
     "text": [
      "{'a': 1, 'b': 2, 'c': 3}\n"
     ]
    }
   ],
   "source": [
    "a = {'a':1,'b':2,'c':3}\n",
    "print(a)"
   ]
  },
  {
   "cell_type": "code",
   "execution_count": 51,
   "metadata": {},
   "outputs": [
    {
     "name": "stdout",
     "output_type": "stream",
     "text": [
      "True\n",
      "True\n"
     ]
    }
   ],
   "source": [
    "a = [1,2,3,4,5,6,7,8,9,10] # list : 많으면 성능 나쁨\n",
    "b = {'a':1,'b':2,'c':3} # dict : 많아도 성능 좋음\n",
    "\n",
    "print(10 in a)\n",
    "print('b' in b)"
   ]
  },
  {
   "cell_type": "markdown",
   "metadata": {},
   "source": [
    "### value access\n",
    "- dict[key] 로 접근, 키가 없는 경우 에러 발생\n",
    "- .get() 함수로 접근, 키가 없는 경우 None 반환"
   ]
  },
  {
   "cell_type": "code",
   "execution_count": 52,
   "metadata": {},
   "outputs": [
    {
     "name": "stdout",
     "output_type": "stream",
     "text": [
      "1\n",
      "3\n"
     ]
    }
   ],
   "source": [
    "a = {'a':1,'b':2,'c':3}\n",
    "print(a.get('a'))\n",
    "\n",
    "if 'b' in a:\n",
    "    print(a['c'])"
   ]
  },
  {
   "cell_type": "markdown",
   "metadata": {},
   "source": [
    "### 모든 key, values 접근\n",
    "- keys() : 키만 반환\n",
    "- values() : 값만 반환\n",
    "- items() : 키, 값의 Tuple을 반환"
   ]
  },
  {
   "cell_type": "code",
   "execution_count": 53,
   "metadata": {},
   "outputs": [
    {
     "name": "stdout",
     "output_type": "stream",
     "text": [
      "{'a': 1, 'b': 2, 'c': 3}\n",
      "dict_keys(['a', 'b', 'c'])\n",
      "dict_values([1, 2, 3])\n",
      "['a', 'b', 'c']\n",
      "[1, 2, 3]\n"
     ]
    },
    {
     "data": {
      "text/plain": [
       "[('a', 1), ('b', 2), ('c', 3)]"
      ]
     },
     "execution_count": 53,
     "metadata": {},
     "output_type": "execute_result"
    }
   ],
   "source": [
    "a = {'a':1,'b':2,'c':3}\n",
    "print(a)\n",
    "\n",
    "print(a.keys()) # dict에서 모든 key\n",
    "print(a.values()) # dict에서 모든 value\n",
    "\n",
    "print(list(a.keys())) # dict에서 모든 key -> list로 변환 가능\n",
    "print(list(a.values())) # dict에서 모든 value -> list로 변환 가능\n",
    "\n",
    "# key, value에 tuple로 된 list 반환\n",
    "list(a.items())"
   ]
  },
  {
   "cell_type": "markdown",
   "metadata": {},
   "source": [
    "## set (거의 사용 안함)\n",
    "- dictionary에서 key만 활용하는 데이터 구조로 이해\n",
    "- 수학에서의 집합과 동일한 개념"
   ]
  },
  {
   "cell_type": "code",
   "execution_count": 54,
   "metadata": {},
   "outputs": [
    {
     "name": "stdout",
     "output_type": "stream",
     "text": [
      "{1, 2, 3, 4, 5}\n"
     ]
    }
   ],
   "source": [
    "# 중복을 허용하지 않고(교집합), 순서대로 나열할 때 사용\n",
    "a = {1,1,2,3,3,4,1,5}\n",
    "print(a)"
   ]
  },
  {
   "cell_type": "markdown",
   "metadata": {},
   "source": [
    "- set()으로 집합으로 변환"
   ]
  },
  {
   "cell_type": "code",
   "execution_count": 55,
   "metadata": {},
   "outputs": [
    {
     "name": "stdout",
     "output_type": "stream",
     "text": [
      "[1, 1, 2, 3, 3, 4, 1, 5]\n",
      "{1, 2, 3, 4, 5}\n"
     ]
    }
   ],
   "source": [
    "# list는 중복 허용되어 출력됨\n",
    "a = [1,1,2,3,3,4,1,5]\n",
    "print(a)\n",
    "\n",
    "b = set(a)\n",
    "print(b)"
   ]
  },
  {
   "cell_type": "markdown",
   "metadata": {},
   "source": [
    "### set operations\n",
    "- 수학 연산과 동일\n",
    "- 합집합, 교집합, 차집합, 부분집합 등 지원"
   ]
  },
  {
   "cell_type": "code",
   "execution_count": 56,
   "metadata": {},
   "outputs": [
    {
     "name": "stdout",
     "output_type": "stream",
     "text": [
      "{1, 2, 3, 4}\n",
      "{2, 3}\n",
      "{1}\n",
      "False\n"
     ]
    }
   ],
   "source": [
    "a = {1,2,3}\n",
    "b = {2,3,4}\n",
    "\n",
    "# 합집합\n",
    "print(a.union(b))\n",
    "\n",
    "# 교집합\n",
    "print(a.intersection(b))\n",
    "\n",
    "# 차집합\n",
    "print(a.difference(b))\n",
    "\n",
    "# 부분집합\n",
    "print(a.issubset(b)) # a는 b의 부분집합이 아님"
   ]
  },
  {
   "cell_type": "markdown",
   "metadata": {},
   "source": [
    "## 조건문 (condition) if 활용하기\n",
    "- if, elif, else 키워드를 사용하며, if, elif, else 블록에 종속된 코드는 들여쓰기로 표현 가능\n",
    "- 들여쓰기 된 코드를 블록(block), 또는 코드블록(code block)이라고 함\n",
    "- 모든 블록의 시작점의 마지막에는  :(콜론; colon) 을 추가해야 함"
   ]
  },
  {
   "cell_type": "code",
   "execution_count": 57,
   "metadata": {},
   "outputs": [
    {
     "name": "stdout",
     "output_type": "stream",
     "text": [
      "6 is greater than 5\n",
      "Yeah, it is true\n",
      "it is really true\n",
      "This code is not belongs to if statements\n"
     ]
    }
   ],
   "source": [
    "if 6 >= 5:\n",
    "# if 6 == 5:\n",
    "    print('6 is greater than 5')\n",
    "    print('Yeah, it is true')\n",
    "    print('it is really true')\n",
    "    \n",
    "print('This code is not belongs to if statements')"
   ]
  },
  {
   "cell_type": "code",
   "execution_count": 58,
   "metadata": {},
   "outputs": [],
   "source": [
    "a = 10\n",
    "b = 8\n",
    "c = 11"
   ]
  },
  {
   "cell_type": "markdown",
   "metadata": {},
   "source": [
    "- 논리표\n",
    "    - AND\n",
    "        - T AND T : T\n",
    "        - T AND F : F\n",
    "        - F AND T : F\n",
    "        - F AND F : F\n",
    "    - OR\n",
    "        - T AND T : T\n",
    "        - T AND F : T\n",
    "        - F AND T : T\n",
    "        - F AND F : F\n",
    "    - NOT\n",
    "        - NOT T : F\n",
    "        - NOT F : T\n",
    "- 우선순위\n",
    "    - NOT > AND > OR"
   ]
  },
  {
   "cell_type": "code",
   "execution_count": 59,
   "metadata": {},
   "outputs": [],
   "source": [
    "if (a == 10 or b == 9) and c == 12:\n",
    "    print('That is true') # false"
   ]
  },
  {
   "cell_type": "code",
   "execution_count": 60,
   "metadata": {},
   "outputs": [],
   "source": [
    "if not a == 10:\n",
    "    print('That is true') # false"
   ]
  },
  {
   "cell_type": "markdown",
   "metadata": {},
   "source": [
    "### if의 조건이 bool이 아닌 경우\n",
    "- 정수, 실수, 문자열 리스트 등 기본 타입도 조건에 사용 가능\n",
    "- False로 간주되는 값(각 타입의 기본값)\n",
    "    - None\n",
    "    - 0\n",
    "    - 0.0\n",
    "    - ''\n",
    "    - [] -> 빈 list\n",
    "    - () -> 빈 tuple\n",
    "    - {} -> 빈 dictionary\n",
    "    - set() -> 빈 집합\n",
    "- 그 밖에는 모두 True 로 간주"
   ]
  },
  {
   "cell_type": "code",
   "execution_count": 61,
   "metadata": {},
   "outputs": [],
   "source": [
    "a = []\n",
    "if a:\n",
    "    print('print')"
   ]
  },
  {
   "cell_type": "markdown",
   "metadata": {},
   "source": [
    "### if, else"
   ]
  },
  {
   "cell_type": "code",
   "execution_count": 62,
   "metadata": {},
   "outputs": [
    {
     "name": "stdout",
     "output_type": "stream",
     "text": [
      "12\n"
     ]
    }
   ],
   "source": [
    "# 짝수인 경우에는 2를 나눈 값을 출력하고, 홀수인 경우에는 1을 더한 값을 출력하라.\n",
    "a = 11\n",
    "if a%2 == 0:\n",
    "    print(a / 2)\n",
    "else:\n",
    "    print(a + 1)"
   ]
  },
  {
   "cell_type": "markdown",
   "metadata": {},
   "source": [
    "### if, elif, else"
   ]
  },
  {
   "cell_type": "code",
   "execution_count": 63,
   "metadata": {},
   "outputs": [
    {
     "name": "stdout",
     "output_type": "stream",
     "text": [
      "a is divisible by 4\n"
     ]
    }
   ],
   "source": [
    "a = 16\n",
    "if a%4 == 0:\n",
    "    print('a is divisible by 4')\n",
    "elif a%4 == 1:\n",
    "    print('a % 4 is 1')\n",
    "elif a%4 == 2:\n",
    "    print('a % 4 is 2')\n",
    "else:\n",
    "    print('a % 4 is 3')"
   ]
  },
  {
   "cell_type": "code",
   "execution_count": 64,
   "metadata": {},
   "outputs": [
    {
     "name": "stdout",
     "output_type": "stream",
     "text": [
      "a is divisible by 4\n",
      "a % 4 is 3\n"
     ]
    }
   ],
   "source": [
    "a = 16\n",
    "if a%4 == 0:\n",
    "    print('a is divisible by 4')\n",
    "if a%4 == 1:\n",
    "    print('a % 4 is 1')\n",
    "if a%4 == 2:\n",
    "    print('a % 4 is 2')\n",
    "else:\n",
    "    print('a % 4 is 3')"
   ]
  },
  {
   "cell_type": "markdown",
   "metadata": {},
   "source": [
    "### 중첩 조건문(nested condition)\n",
    "- 중첩의 의미는 depth(깊이)로 생각할 수 있으며, depth의 제한은 없음"
   ]
  },
  {
   "cell_type": "code",
   "execution_count": 65,
   "metadata": {},
   "outputs": [
    {
     "name": "stdout",
     "output_type": "stream",
     "text": [
      "nothing\n"
     ]
    }
   ],
   "source": [
    "a = 1\n",
    "b = 99\n",
    "c = 44\n",
    "\n",
    "if a == 10:\n",
    "    print('a')\n",
    "    if b == 9:\n",
    "        print('b')\n",
    "        if c == 8:\n",
    "            print('c is 8')\n",
    "else:\n",
    "    print('nothing')            "
   ]
  },
  {
   "cell_type": "markdown",
   "metadata": {},
   "source": [
    "## 반복문(loop)\n",
    "- while 키워드"
   ]
  },
  {
   "cell_type": "code",
   "execution_count": 66,
   "metadata": {},
   "outputs": [
    {
     "name": "stdout",
     "output_type": "stream",
     "text": [
      "index :  0 , value :  1\n",
      "index :  1 , value :  10\n",
      "index :  2 , value :  9\n",
      "index :  3 , value :  24\n",
      "index :  4 , value :  566\n",
      "index :  5 , value :  23\n",
      "index :  6 , value :  45\n",
      "index :  7 , value :  67\n",
      "index :  8 , value :  89\n"
     ]
    }
   ],
   "source": [
    "a = [1,10,9,24,566,23,45,67,89]\n",
    "\n",
    "i = 0 #인덱스\n",
    "while i < len(a):\n",
    "    print('index : ', i ,', value : ', a[i])\n",
    "    i += 1"
   ]
  },
  {
   "cell_type": "code",
   "execution_count": 67,
   "metadata": {},
   "outputs": [
    {
     "name": "stdout",
     "output_type": "stream",
     "text": [
      "24\n",
      "566\n",
      "23\n",
      "45\n",
      "67\n",
      "89\n"
     ]
    }
   ],
   "source": [
    "# 20보다 큰 경우 출력하기\n",
    "a = [1,10,9,24,566,23,45,67,89]\n",
    "\n",
    "i = 0 #인덱스\n",
    "while i < len(a):\n",
    "    if a[i] > 20:\n",
    "        print(a[i])\n",
    "    i += 1    "
   ]
  },
  {
   "cell_type": "code",
   "execution_count": 68,
   "metadata": {},
   "outputs": [
    {
     "name": "stdout",
     "output_type": "stream",
     "text": [
      "10\n",
      "24\n",
      "566\n"
     ]
    }
   ],
   "source": [
    "# 짝수만 출력하기\n",
    "a = [1,10,9,24,566,23,45,67,89]\n",
    "\n",
    "i = 0 #인덱스\n",
    "while i < len(a):\n",
    "    if a[i] % 2 == 0:\n",
    "        print(a[i])\n",
    "    i += 1    "
   ]
  },
  {
   "cell_type": "markdown",
   "metadata": {},
   "source": [
    "### 무한루프\n",
    "- while의 경우 종료가 되지 않도록 코드를 작성하면 블록에서 빠져나올 수 없음"
   ]
  },
  {
   "cell_type": "code",
   "execution_count": 1,
   "metadata": {},
   "outputs": [],
   "source": [
    "# kernel 재시작 : kernel > Restart & Clear Output\n",
    "# while True:\n",
    "#     print('무한루프...')\n",
    "\n",
    "# 무한루프는 쓰지 마시오! (실행하지 마!)"
   ]
  },
  {
   "cell_type": "markdown",
   "metadata": {},
   "source": [
    "### break\n",
    "- loop를 중단할 때 사용\n",
    "- 보통 조건문 안에서 수행되며, 조건을 만족하는 경우 loop를 탈출하기 위해 사용"
   ]
  },
  {
   "cell_type": "code",
   "execution_count": 2,
   "metadata": {},
   "outputs": [
    {
     "name": "stdout",
     "output_type": "stream",
     "text": [
      "1\n",
      "10\n",
      "9\n"
     ]
    }
   ],
   "source": [
    "a = [1, 10, 9, 24, 25, 26]\n",
    "\n",
    "i = 0\n",
    "while i < len(a):\n",
    "    if a[i] > 20:\n",
    "        break\n",
    "    print(a[i])\n",
    "    i += 1"
   ]
  },
  {
   "cell_type": "markdown",
   "metadata": {},
   "source": [
    "### continue\n",
    "- break 처럼 반복을 중단하여 빠져나오지 않고, 다시 while 조건으로 점프함\n",
    "- 특정한 경우에는 코드를 수행하지 않고 다음으로 건너 뛰기 위해 사용"
   ]
  },
  {
   "cell_type": "code",
   "execution_count": 3,
   "metadata": {},
   "outputs": [
    {
     "name": "stdout",
     "output_type": "stream",
     "text": [
      "6\n",
      "4\n",
      "3\n",
      "2\n",
      "1\n",
      "0\n"
     ]
    }
   ],
   "source": [
    "a = 7\n",
    "while a>0:\n",
    "    a -= 1\n",
    "    if a == 5:\n",
    "        continue\n",
    "    print(a)    "
   ]
  },
  {
   "cell_type": "code",
   "execution_count": 4,
   "metadata": {},
   "outputs": [
    {
     "name": "stdout",
     "output_type": "stream",
     "text": [
      "5050\n"
     ]
    }
   ],
   "source": [
    "# 1~100까지 더하기\n",
    "num = 1\n",
    "_sum = 0\n",
    "while num <= 100:\n",
    "    _sum += num\n",
    "    num += 1\n",
    "print(_sum)    "
   ]
  },
  {
   "cell_type": "markdown",
   "metadata": {},
   "source": [
    "## for 반복문\n",
    "- 리스트, 문자열 등등 순회 가능한 객체를 순회하면서 값을 처리할 때 사용\n",
    "- 아래 예제와 같은 문법으로 사용\n",
    "- i는 매번 수행될 때마다, a의 아이템으로 순차적으로 변경됨\n",
    "- 모든 아이템이 순회되면 for 블록 종료"
   ]
  },
  {
   "cell_type": "code",
   "execution_count": 12,
   "metadata": {},
   "outputs": [
    {
     "name": "stdout",
     "output_type": "stream",
     "text": [
      "1 2\n",
      "2 4\n",
      "4 8\n",
      "3 6\n",
      "5 10\n",
      "end\n"
     ]
    }
   ],
   "source": [
    "# 예제\n",
    "a = [1,2,4,3,5]\n",
    "for i in a:\n",
    "    print(i, i*2)\n",
    "print('end')"
   ]
  },
  {
   "cell_type": "markdown",
   "metadata": {},
   "source": [
    "### 문자열의 아이템 출력하기\n",
    "- 문자열의 경우 순회 가능"
   ]
  },
  {
   "cell_type": "code",
   "execution_count": 13,
   "metadata": {},
   "outputs": [
    {
     "name": "stdout",
     "output_type": "stream",
     "text": [
      "H\n",
      "e\n",
      "l\n",
      "l\n",
      "o\n",
      " \n",
      "w\n",
      "o\n",
      "r\n",
      "l\n",
      "d\n"
     ]
    }
   ],
   "source": [
    "a = 'Hello world'\n",
    "for ch in a:\n",
    "    print(ch)"
   ]
  },
  {
   "cell_type": "markdown",
   "metadata": {},
   "source": [
    "### 리스트 아이템 출력하기"
   ]
  },
  {
   "cell_type": "code",
   "execution_count": 21,
   "metadata": {},
   "outputs": [
    {
     "name": "stdout",
     "output_type": "stream",
     "text": [
      "1 > 짝수가 아님\n",
      "10 5.0\n",
      "3 > 짝수가 아님\n",
      "4 2.0\n",
      "5 > 짝수가 아님\n"
     ]
    }
   ],
   "source": [
    "a = [1,10,3,4,5]\n",
    "for num in a:\n",
    "    if num%2 == 0:\n",
    "        print(num, num/2)\n",
    "    else:\n",
    "        print(num, '> 짝수가 아님')"
   ]
  },
  {
   "cell_type": "markdown",
   "metadata": {},
   "source": [
    "### dict의 아이템 출력하기\n",
    "- dictionary의 경우 기본적으로 순회하게 되면 key 값을 참조\n",
    "- key()함수를 이용하여 key 값만 순회 가능\n",
    "- value()함수를 이용하여 value 값만 순회 가능\n",
    "- items()함수를 이용하여 tuple 형태로 key, value 순회 가능"
   ]
  },
  {
   "cell_type": "code",
   "execution_count": 28,
   "metadata": {},
   "outputs": [],
   "source": [
    "a = {'korea':'seoul', 'japan':'tokyo', 'canada':'ottawa'}"
   ]
  },
  {
   "cell_type": "code",
   "execution_count": 29,
   "metadata": {},
   "outputs": [
    {
     "name": "stdout",
     "output_type": "stream",
     "text": [
      "korea seoul\n",
      "japan tokyo\n",
      "canada ottawa\n"
     ]
    }
   ],
   "source": [
    "for key in a:\n",
    "    print(key, a[key])"
   ]
  },
  {
   "cell_type": "code",
   "execution_count": 25,
   "metadata": {},
   "outputs": [
    {
     "name": "stdout",
     "output_type": "stream",
     "text": [
      "seoul\n",
      "tokyo\n",
      "ottawa\n"
     ]
    }
   ],
   "source": [
    "for value in a.values(): # values() 함수 활용\n",
    "    print(value)"
   ]
  },
  {
   "cell_type": "code",
   "execution_count": 27,
   "metadata": {},
   "outputs": [
    {
     "data": {
      "text/plain": [
       "[('korea', 'seoul'), ('japan', 'tokyo'), ('canada', 'ottawa')]"
      ]
     },
     "execution_count": 27,
     "metadata": {},
     "output_type": "execute_result"
    }
   ],
   "source": [
    "# tuple 인 경우, Key와 Value를 한꺼번에 가져올 수 있음\n",
    "list(a.items())"
   ]
  },
  {
   "cell_type": "code",
   "execution_count": 30,
   "metadata": {},
   "outputs": [
    {
     "name": "stdout",
     "output_type": "stream",
     "text": [
      "korea seoul\n",
      "japan tokyo\n",
      "canada ottawa\n"
     ]
    }
   ],
   "source": [
    "for key, value in a.items():\n",
    "    print(key, value)"
   ]
  },
  {
   "cell_type": "markdown",
   "metadata": {},
   "source": [
    "### for에서 index 사용하기\n",
    "- 기본적으로 for에 리스트를 순회하는 경우, 값만 추출함\n",
    "- enumerate 함수 사용!"
   ]
  },
  {
   "cell_type": "code",
   "execution_count": 35,
   "metadata": {},
   "outputs": [
    {
     "name": "stdout",
     "output_type": "stream",
     "text": [
      "4 5\n"
     ]
    }
   ],
   "source": [
    "a = [1,2,4,3,5]\n",
    "for index, value in enumerate(a):\n",
    "    if index > 3:\n",
    "        print(index, value)"
   ]
  },
  {
   "cell_type": "markdown",
   "metadata": {},
   "source": [
    "### break"
   ]
  },
  {
   "cell_type": "code",
   "execution_count": 37,
   "metadata": {},
   "outputs": [
    {
     "name": "stdout",
     "output_type": "stream",
     "text": [
      "100\n",
      "90\n",
      "80\n"
     ]
    }
   ],
   "source": [
    "a = [100,90,80,70,60,50]\n",
    "for num in a:\n",
    "    if num < 80:\n",
    "        break\n",
    "    print(num)"
   ]
  },
  {
   "cell_type": "markdown",
   "metadata": {},
   "source": [
    "### continue"
   ]
  },
  {
   "cell_type": "code",
   "execution_count": 38,
   "metadata": {},
   "outputs": [
    {
     "name": "stdout",
     "output_type": "stream",
     "text": [
      "100\n",
      "90\n",
      "80\n",
      "50\n"
     ]
    }
   ],
   "source": [
    "a = [100,90,80,70,60,50]\n",
    "for num in a:\n",
    "    if num >= 60 and num <= 70:\n",
    "        continue\n",
    "    print(num)"
   ]
  },
  {
   "cell_type": "markdown",
   "metadata": {},
   "source": [
    "### loop 중첩\n",
    "- 반복문의 경우에도 중첩하여 사용 가능\n",
    "- 중첩이라는 것은 반복문 블록의 코드안에 또 반복문의 코드가 작성되는 것을 의미\n",
    "- 이런 경우, 내부 루프는 외부 루프가 수행되는 만큼 반복 수행됨\n",
    "- 또한 중첩의 경우 무함히 가능"
   ]
  },
  {
   "cell_type": "code",
   "execution_count": 40,
   "metadata": {},
   "outputs": [
    {
     "name": "stdout",
     "output_type": "stream",
     "text": [
      "1\n",
      "2\n",
      "4\n",
      "2\n",
      "4\n",
      "8\n",
      "4\n",
      "8\n",
      "16\n"
     ]
    }
   ],
   "source": [
    "a = [1,2,4]\n",
    "for i in a:\n",
    "    for j in a:\n",
    "        print(i * j)"
   ]
  },
  {
   "cell_type": "markdown",
   "metadata": {},
   "source": [
    "### 구구단 출력하기"
   ]
  },
  {
   "cell_type": "code",
   "execution_count": 61,
   "metadata": {
    "scrolled": true
   },
   "outputs": [
    {
     "name": "stdout",
     "output_type": "stream",
     "text": [
      "2 x 1 = 2\n",
      "2 x 2 = 4\n",
      "2 x 3 = 6\n",
      "2 x 4 = 8\n",
      "2 x 5 = 10\n",
      "2 x 6 = 12\n",
      "2 x 7 = 14\n",
      "2 x 8 = 16\n",
      "2 x 9 = 18\n",
      "-----------\n",
      "3 x 1 = 3\n",
      "3 x 2 = 6\n",
      "3 x 3 = 9\n",
      "3 x 4 = 12\n",
      "3 x 5 = 15\n",
      "3 x 6 = 18\n",
      "3 x 7 = 21\n",
      "3 x 8 = 24\n",
      "3 x 9 = 27\n",
      "-----------\n",
      "4 x 1 = 4\n",
      "4 x 2 = 8\n",
      "4 x 3 = 12\n",
      "4 x 4 = 16\n",
      "4 x 5 = 20\n",
      "4 x 6 = 24\n",
      "4 x 7 = 28\n",
      "4 x 8 = 32\n",
      "4 x 9 = 36\n",
      "-----------\n",
      "5 x 1 = 5\n",
      "5 x 2 = 10\n",
      "5 x 3 = 15\n",
      "5 x 4 = 20\n",
      "5 x 5 = 25\n",
      "5 x 6 = 30\n",
      "5 x 7 = 35\n",
      "5 x 8 = 40\n",
      "5 x 9 = 45\n",
      "-----------\n",
      "6 x 1 = 6\n",
      "6 x 2 = 12\n",
      "6 x 3 = 18\n",
      "6 x 4 = 24\n",
      "6 x 5 = 30\n",
      "6 x 6 = 36\n",
      "6 x 7 = 42\n",
      "6 x 8 = 48\n",
      "6 x 9 = 54\n",
      "-----------\n",
      "7 x 1 = 7\n",
      "7 x 2 = 14\n",
      "7 x 3 = 21\n",
      "7 x 4 = 28\n",
      "7 x 5 = 35\n",
      "7 x 6 = 42\n",
      "7 x 7 = 49\n",
      "7 x 8 = 56\n",
      "7 x 9 = 63\n",
      "-----------\n",
      "8 x 1 = 8\n",
      "8 x 2 = 16\n",
      "8 x 3 = 24\n",
      "8 x 4 = 32\n",
      "8 x 5 = 40\n",
      "8 x 6 = 48\n",
      "8 x 7 = 56\n",
      "8 x 8 = 64\n",
      "8 x 9 = 72\n",
      "-----------\n",
      "9 x 1 = 9\n",
      "9 x 2 = 18\n",
      "9 x 3 = 27\n",
      "9 x 4 = 36\n",
      "9 x 5 = 45\n",
      "9 x 6 = 54\n",
      "9 x 7 = 63\n",
      "9 x 8 = 72\n",
      "9 x 9 = 81\n",
      "-----------\n"
     ]
    }
   ],
   "source": [
    "x = [2,3,4,5,6,7,8,9]\n",
    "y = [1,2,3,4,5,6,7,8,9]\n",
    "for num1 in x:\n",
    "    for num2 in y:\n",
    "        print(num1,'x',num2,\"=\",num1*num2)\n",
    "    print(\"-----------\")"
   ]
  },
  {
   "cell_type": "markdown",
   "metadata": {},
   "source": [
    "## collection의 길이\n",
    "- len() 내장함수로 계산 가능\n",
    "- 내장함수란 파이썬 내부에 구현되어 있어서, import하지 않고도 사용 가능한 함수를 의미\n",
    "- abs, len, type, range 등이 있음"
   ]
  },
  {
   "cell_type": "code",
   "execution_count": 63,
   "metadata": {},
   "outputs": [
    {
     "data": {
      "text/plain": [
       "6"
      ]
     },
     "execution_count": 63,
     "metadata": {},
     "output_type": "execute_result"
    }
   ],
   "source": [
    "a = [1,2,3,4,5,6]\n",
    "len(a)"
   ]
  },
  {
   "cell_type": "markdown",
   "metadata": {},
   "source": [
    "### range 함수\n",
    "- 리스트를 쉽게 만들 수 있는 내장함수\n",
    "- 주어진 값에 따라 다양한 결과를 반환"
   ]
  },
  {
   "cell_type": "code",
   "execution_count": 73,
   "metadata": {},
   "outputs": [
    {
     "data": {
      "text/plain": [
       "[1, 2, 3, 4, 5, 6, 7, 8, 9, 10]"
      ]
     },
     "execution_count": 73,
     "metadata": {},
     "output_type": "execute_result"
    }
   ],
   "source": [
    "# 1부터 시작하여 11 이전까지\n",
    "list(range(1,11))"
   ]
  },
  {
   "cell_type": "code",
   "execution_count": 76,
   "metadata": {},
   "outputs": [
    {
     "data": {
      "text/plain": [
       "[1, 6, 11, 16, 21, 26, 31, 36, 41, 46, 51, 56, 61, 66, 71, 76, 81, 86, 91, 96]"
      ]
     },
     "execution_count": 76,
     "metadata": {},
     "output_type": "execute_result"
    }
   ],
   "source": [
    "# 1부터 시작하여 101 이전까지 + 숫자5씩 건너뛰기\n",
    "list(range(1,101,5))"
   ]
  },
  {
   "cell_type": "markdown",
   "metadata": {},
   "source": [
    "### range 함수 연습문제\n",
    "- 1부터 100사이의 5의 배수만을 갖는 리스트를 생성하시오"
   ]
  },
  {
   "cell_type": "code",
   "execution_count": 83,
   "metadata": {},
   "outputs": [
    {
     "name": "stdout",
     "output_type": "stream",
     "text": [
      "[5, 10, 15, 20, 25, 30, 35, 40, 45, 50, 55, 60, 65, 70, 75, 80, 85, 90, 95, 100]\n"
     ]
    }
   ],
   "source": [
    "print(list(range(5,101,5)))"
   ]
  },
  {
   "cell_type": "markdown",
   "metadata": {},
   "source": [
    "Chapter 03. 조건문과 반복문 - 07. 조건문, 반복문 연습 문제 풀이"
   ]
  },
  {
   "cell_type": "code",
   "execution_count": 1,
   "metadata": {},
   "outputs": [],
   "source": []
  },
  {
   "cell_type": "code",
   "execution_count": null,
   "metadata": {},
   "outputs": [],
   "source": []
  },
  {
   "cell_type": "code",
   "execution_count": null,
   "metadata": {},
   "outputs": [],
   "source": []
  },
  {
   "cell_type": "code",
   "execution_count": null,
   "metadata": {},
   "outputs": [],
   "source": []
  },
  {
   "cell_type": "code",
   "execution_count": 3,
   "metadata": {},
   "outputs": [],
   "source": []
  },
  {
   "cell_type": "code",
   "execution_count": 4,
   "metadata": {},
   "outputs": [
    {
     "name": "stdout",
     "output_type": "stream",
     "text": [
      "       순위        키워드  PC 광고 단가  모바일 광고 단가  PC 검색  모바일 검색  총 검색수       상품수  \\\n",
      "0     231    에이센트디퓨저       100        110    480    3690   4170        11   \n",
      "1    1024    돌하르방라이언        70         70    140    1260   1400        10   \n",
      "2     404     딥디크까루셀       240        280     30     580    610         4   \n",
      "3     384      메르시엔코       340        100    240    1520   1760        21   \n",
      "4     703     선진달무드등       110        120    130    1390   1520        11   \n",
      "..    ...        ...       ...        ...    ...     ...    ...       ...   \n",
      "582   303  빈티지인테리어소품       220        480    210     930   1140   1048033   \n",
      "583   648     인테리어캔들       150        300    180    1030   1210   1757256   \n",
      "584   700     만원이하선물       350        370    120     990   1110   2378816   \n",
      "585   481      디자인문패       520        990    120     510    630   1932142   \n",
      "586   325     diy만들기        70         70    600    2040   2640  19460393   \n",
      "\n",
      "        경쟁강도  PC클릭률  모바일클릭률  네이버 쇼핑 건수                      추천 카테고리  \n",
      "0       0.00   5.74    3.40        NaN  가구/인테리어 > 인테리어소품 > 아로마/캔들용품  \n",
      "1       0.01   0.00    0.00        NaN      가구/인테리어 > 인테리어소품 > 장식인형  \n",
      "2       0.01  11.54    7.28        NaN          면세점 > 시계/기프트 > 생활소품  \n",
      "3       0.01   3.13    2.24        NaN  가구/인테리어 > 인테리어소품 > 아로마/캔들용품  \n",
      "4       0.01   1.54    0.28        NaN        가구/인테리어 > 인테리어소품 > 조명  \n",
      "..       ...    ...     ...        ...                          ...  \n",
      "582   919.33   7.44    7.20        NaN                          NaN  \n",
      "583  1452.28   1.43    0.39        NaN                          NaN  \n",
      "584  2143.08   0.79    0.45        NaN                          NaN  \n",
      "585  3066.89   3.60    2.96        NaN                          NaN  \n",
      "586  7371.36   2.48    2.29        NaN                          NaN  \n",
      "\n",
      "[587 rows x 13 columns]\n"
     ]
    }
   ],
   "source": [
    "print(df)"
   ]
  },
  {
   "cell_type": "code",
   "execution_count": null,
   "metadata": {},
   "outputs": [],
   "source": []
  },
  {
   "cell_type": "code",
   "execution_count": null,
   "metadata": {},
   "outputs": [],
   "source": []
  },
  {
   "cell_type": "code",
   "execution_count": null,
   "metadata": {},
   "outputs": [],
   "source": []
  },
  {
   "cell_type": "code",
   "execution_count": null,
   "metadata": {},
   "outputs": [],
   "source": []
  },
  {
   "cell_type": "code",
   "execution_count": null,
   "metadata": {},
   "outputs": [],
   "source": []
  },
  {
   "cell_type": "code",
   "execution_count": null,
   "metadata": {},
   "outputs": [],
   "source": []
  },
  {
   "cell_type": "code",
   "execution_count": null,
   "metadata": {},
   "outputs": [],
   "source": []
  },
  {
   "cell_type": "code",
   "execution_count": null,
   "metadata": {},
   "outputs": [],
   "source": []
  },
  {
   "cell_type": "code",
   "execution_count": null,
   "metadata": {},
   "outputs": [],
   "source": []
  },
  {
   "cell_type": "code",
   "execution_count": null,
   "metadata": {},
   "outputs": [],
   "source": []
  },
  {
   "cell_type": "code",
   "execution_count": null,
   "metadata": {},
   "outputs": [],
   "source": []
  },
  {
   "cell_type": "code",
   "execution_count": null,
   "metadata": {},
   "outputs": [],
   "source": []
  },
  {
   "cell_type": "code",
   "execution_count": null,
   "metadata": {},
   "outputs": [],
   "source": []
  },
  {
   "cell_type": "code",
   "execution_count": null,
   "metadata": {},
   "outputs": [],
   "source": []
  },
  {
   "cell_type": "code",
   "execution_count": null,
   "metadata": {},
   "outputs": [],
   "source": []
  },
  {
   "cell_type": "code",
   "execution_count": null,
   "metadata": {},
   "outputs": [],
   "source": []
  },
  {
   "cell_type": "code",
   "execution_count": null,
   "metadata": {},
   "outputs": [],
   "source": []
  },
  {
   "cell_type": "code",
   "execution_count": null,
   "metadata": {},
   "outputs": [],
   "source": []
  },
  {
   "cell_type": "code",
   "execution_count": null,
   "metadata": {},
   "outputs": [],
   "source": []
  },
  {
   "cell_type": "code",
   "execution_count": null,
   "metadata": {},
   "outputs": [],
   "source": []
  },
  {
   "cell_type": "code",
   "execution_count": null,
   "metadata": {},
   "outputs": [],
   "source": []
  },
  {
   "cell_type": "code",
   "execution_count": null,
   "metadata": {},
   "outputs": [],
   "source": []
  },
  {
   "cell_type": "code",
   "execution_count": null,
   "metadata": {},
   "outputs": [],
   "source": []
  }
 ],
 "metadata": {
  "kernelspec": {
   "display_name": "Python 3",
   "language": "python",
   "name": "python3"
  },
  "language_info": {
   "codemirror_mode": {
    "name": "ipython",
    "version": 3
   },
   "file_extension": ".py",
   "mimetype": "text/x-python",
   "name": "python",
   "nbconvert_exporter": "python",
   "pygments_lexer": "ipython3",
   "version": "3.7.6"
  }
 },
 "nbformat": 4,
 "nbformat_minor": 2
}
